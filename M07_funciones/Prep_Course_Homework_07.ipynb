{
 "cells": [
  {
   "attachments": {},
   "cell_type": "markdown",
   "metadata": {},
   "source": [
    "## Funciones"
   ]
  },
  {
   "attachments": {},
   "cell_type": "markdown",
   "metadata": {},
   "source": [
    "1) Crear una función que reciba un número como parámetro y devuelva True si es primo y False si no lo es"
   ]
  },
  {
   "cell_type": "code",
   "execution_count": 2,
   "metadata": {},
   "outputs": [
    {
     "data": {
      "text/plain": [
       "True"
      ]
     },
     "execution_count": 2,
     "metadata": {},
     "output_type": "execute_result"
    }
   ],
   "source": [
    "def primo(numero):\n",
    "    es_primo = True\n",
    "    for i in range(2,numero):\n",
    "        if numero % i == 0:\n",
    "            es_primo = False\n",
    "            break\n",
    "    return es_primo\n",
    "\n",
    "primo(5)\n"
   ]
  },
  {
   "attachments": {},
   "cell_type": "markdown",
   "metadata": {},
   "source": [
    "2) Utilizando la función del punto 1, realizar otra función que reciba de parámetro una lista de números y devuelva sólo aquellos que son primos en otra lista"
   ]
  },
  {
   "cell_type": "code",
   "execution_count": 4,
   "metadata": {},
   "outputs": [
    {
     "data": {
      "text/plain": [
       "[-3, 1, 2, 3, 5, 7, 11, 13, 17, 19, 5]"
      ]
     },
     "execution_count": 4,
     "metadata": {},
     "output_type": "execute_result"
    }
   ],
   "source": [
    "lis_completa = [-3,1,2,3,4,5,6,7,8,9,10,11,12,13,14,15,16,17,18,19,20,4.5,5]\n",
    "\n",
    "def extraer_primos(lista):\n",
    "    lista_primos = []\n",
    "    for i in lista:\n",
    "        if primo(int(i)):\n",
    "            lista_primos.append(i)\n",
    "    return lista_primos\n",
    "extraer_primos(lis_completa)"
   ]
  },
  {
   "attachments": {},
   "cell_type": "markdown",
   "metadata": {},
   "source": [
    "3) Crear una función que al recibir una lista de números, devuelva el que más se repite y cuántas veces lo hace. Si hay más de un \"más repetido\", que devuelva cualquiera"
   ]
  },
  {
   "cell_type": "code",
   "execution_count": 25,
   "metadata": {},
   "outputs": [
    {
     "data": {
      "text/plain": [
       "(5, 4, [2, 3, 4, 5, 6], [3, 2, 2, 4, 1])"
      ]
     },
     "execution_count": 25,
     "metadata": {},
     "output_type": "execute_result"
    }
   ],
   "source": [
    "lis = [2,3,4,5,6,3,2,5,5,4,5,2]\n",
    "\n",
    "def valor_modal(lista):\n",
    "    lista_unicos = []\n",
    "    lista_repetidos = []\n",
    "    if len(lista)==0:\n",
    "        return None\n",
    "    for elemento in lista:\n",
    "        if elemento in lista_unicos:\n",
    "            i = lista_unicos.index(elemento)\n",
    "            lista_repetidos[i]+=1\n",
    "        else:\n",
    "            lista_unicos.append(elemento)\n",
    "            lista_repetidos.append(1)\n",
    "    moda = lista_unicos[0]\n",
    "    maximo = lista_repetidos[0]\n",
    "    for i, elemento in enumerate(lista_unicos):\n",
    "        if lista_repetidos[i] > maximo:    \n",
    "            moda = lista_unicos[i]\n",
    "            maximo = lista_repetidos[i]\n",
    "    return moda, maximo, lista_unicos, lista_repetidos\n",
    "\n",
    "valor_modal(lis)"
   ]
  },
  {
   "attachments": {},
   "cell_type": "markdown",
   "metadata": {},
   "source": [
    "4) Crear una función que convierta entre grados Celsius, Farenheit y Kelvin<br>\n",
    "Fórmula 1\t: (°C × 9/5) + 32 = °F<br>\n",
    "Fórmula 2\t: °C + 273.15 = °K<br>\n",
    "Debe recibir 3 parámetros: el valor, la medida de orígen y la medida de destino\n"
   ]
  },
  {
   "cell_type": "code",
   "execution_count": 41,
   "metadata": {},
   "outputs": [
    {
     "name": "stdout",
     "output_type": "stream",
     "text": [
      "el valor de 1 de celsius a celsius 1\n",
      "el valor de 1 de celsius a kelvin 274.15\n",
      "el valor de 1 de celsius a farenhet 33.8\n",
      "el valor de 1 de kelvin a celsius -272.15\n",
      "el valor de 1 de kelvin a kelvin 1\n",
      "el valor de 1 de kelvin a farenhet -457.87\n",
      "el valor de 1 de farenheit a celsius -17.22222222222222\n",
      "el valor de 1 de farenheit a kelvin 255.92777777777775\n",
      "el valor de 1 de farenheit a farenhet 1\n"
     ]
    }
   ],
   "source": [
    "def conversion_datos(valor,origen,destino):\n",
    "\n",
    "    if origen == 'celsius':\n",
    "        if destino == 'celsius':\n",
    "            valor_destino = valor\n",
    "        elif destino == 'kelvin':\n",
    "            valor_destino = valor + 273.15\n",
    "        elif destino == 'farenheit':\n",
    "            valor_destino =(valor * 9/5)+32\n",
    "        else:\n",
    "            return 'parametro incorrecto'\n",
    "    elif origen == 'kelvin':\n",
    "        if destino == 'celsius':\n",
    "            valor_destino = valor - 273.15\n",
    "        elif destino == 'kelvin':\n",
    "            valor_destino = valor\n",
    "        elif destino == \"farenheit\":\n",
    "            valor_destino = ((valor - 273.15) *9/5)+32\n",
    "        else:\n",
    "            return ' parametro incorrescto'\n",
    "    elif origen == 'farenheit':\n",
    "        if destino == 'celsius':\n",
    "            valor_destino = (valor - 32) * 5 / 9\n",
    "        elif destino == 'kelvin':\n",
    "            valor_destino = ((valor - 32) * 5 / 9) + 273.15\n",
    "        elif destino == \"farenheit\":\n",
    "            valor_destino = valor\n",
    "        else:\n",
    "            return ' parametro incorrescto'\n",
    "    else:\n",
    "        return 'parametro incorrecto'\n",
    "    return valor_destino\n",
    "\n",
    "print('el valor de 1 de celsius a celsius', conversion_datos(1,'celsius','celsius'))\n",
    "print('el valor de 1 de celsius a kelvin', conversion_datos(1,'celsius','kelvin'))\n",
    "print('el valor de 1 de celsius a farenhet', conversion_datos(1,'celsius','farenheit'))\n",
    "print('el valor de 1 de kelvin a celsius', conversion_datos(1,'kelvin','celsius'))\n",
    "print('el valor de 1 de kelvin a kelvin', conversion_datos(1,'kelvin','kelvin'))\n",
    "print('el valor de 1 de kelvin a farenhet', conversion_datos(1,'kelvin','farenheit'))\n",
    "print('el valor de 1 de farenheit a celsius', conversion_datos(1,'farenheit','celsius'))\n",
    "print('el valor de 1 de farenheit a kelvin', conversion_datos(1,'farenheit','kelvin'))\n",
    "print('el valor de 1 de farenheit a farenhet', conversion_datos(1,'farenheit','farenheit'))"
   ]
  },
  {
   "attachments": {},
   "cell_type": "markdown",
   "metadata": {},
   "source": [
    "5) Iterando una lista con los tres valores posibles de temperatura que recibe la función del punto 5, hacer un print para cada combinación de los mismos:"
   ]
  },
  {
   "cell_type": "code",
   "execution_count": 43,
   "metadata": {},
   "outputs": [
    {
     "name": "stdout",
     "output_type": "stream",
     "text": [
      "1 grado celsius a celsius : 1\n",
      "1 grado celsius a kelvin : 274.15\n",
      "1 grado celsius a farenheit : 33.8\n",
      "1 grado kelvin a celsius : -272.15\n",
      "1 grado kelvin a kelvin : 1\n",
      "1 grado kelvin a farenheit : -457.87\n",
      "1 grado farenheit a celsius : -17.22222222222222\n",
      "1 grado farenheit a kelvin : 255.92777777777775\n",
      "1 grado farenheit a farenheit : 1\n"
     ]
    }
   ],
   "source": [
    "metricas = ['celsius', 'kelvin', 'farenheit']  # Lista de las unidades métricas\n",
    "\n",
    "for i in range(0, 3):  # Bucle exterior que itera sobre los índices de la lista de metricas\n",
    "    for j in range(0, 3):  # Bucle interior que itera sobre los índices de la lista de metricas\n",
    "        # Se imprime la conversión de 1 grado desde la unidad métrica en el índice i a la unidad métrica en el índice j\n",
    "        # utilizando la función de conversión_grados\n",
    "        print('1 grado', metricas[i], 'a', metricas[j], ':', conversion_datos(1, metricas[i], metricas[j]))"
   ]
  },
  {
   "attachments": {},
   "cell_type": "markdown",
   "metadata": {},
   "source": [
    "6) Armar una función que devuelva el factorial de un número. Tener en cuenta que el usuario puede equivocarse y enviar de parámetro un número no entero o negativo"
   ]
  },
  {
   "cell_type": "code",
   "execution_count": 7,
   "metadata": {},
   "outputs": [
    {
     "data": {
      "text/plain": [
       "120"
      ]
     },
     "execution_count": 7,
     "metadata": {},
     "output_type": "execute_result"
    }
   ],
   "source": [
    "def factorial(numero):\n",
    "    if (type(numero) != int):\n",
    "        print('el dato ingresado no es un entero')\n",
    "    if numero<0:\n",
    "        print('el numero debe ser mayor que sero')\n",
    "    if numero<=1:\n",
    "        return 1\n",
    "    numero = numero * factorial(numero-1)\n",
    "    return numero\n",
    "factorial(5)"
   ]
  },
  {
   "cell_type": "code",
   "execution_count": 22,
   "metadata": {},
   "outputs": [
    {
     "data": {
      "text/plain": [
       "'que el numero sea mayor'"
      ]
     },
     "execution_count": 22,
     "metadata": {},
     "output_type": "execute_result"
    }
   ],
   "source": [
    "def factorial(numero):\n",
    "    if type(numero) != int:\n",
    "        return ('digite un numero')\n",
    "    if numero<0:\n",
    "        return 'que el numero sea mayor'\n",
    "    if numero <=1:\n",
    "        return 1\n",
    "    for i in range(1,numero):\n",
    "        numero = numero*i\n",
    "    return numero\n",
    "factorial(-5)"
   ]
  }
 ],
 "metadata": {
  "interpreter": {
   "hash": "c85384e4cb51c8b72350f3a8712cc8351fdc3955e32a27f9b60c6242ab125f01"
  },
  "kernelspec": {
   "display_name": "Python 3 (ipykernel)",
   "language": "python",
   "name": "python3"
  },
  "language_info": {
   "codemirror_mode": {
    "name": "ipython",
    "version": 3
   },
   "file_extension": ".py",
   "mimetype": "text/x-python",
   "name": "python",
   "nbconvert_exporter": "python",
   "pygments_lexer": "ipython3",
   "version": "3.10.11"
  }
 },
 "nbformat": 4,
 "nbformat_minor": 4
}
